{
 "cells": [
  {
   "cell_type": "markdown",
   "metadata": {},
   "source": [
    "# Part I. ETL Pipeline for Pre-Processing the Files"
   ]
  },
  {
   "cell_type": "markdown",
   "metadata": {},
   "source": [
    "## PLEASE RUN THE FOLLOWING CODE FOR PRE-PROCESSING THE FILES"
   ]
  },
  {
   "cell_type": "markdown",
   "metadata": {},
   "source": [
    "#### Import Python packages "
   ]
  },
  {
   "cell_type": "code",
   "execution_count": 2,
   "metadata": {},
   "outputs": [],
   "source": [
    "# Import Python packages \n",
    "import pandas as pd\n",
    "import cassandra\n",
    "import re\n",
    "import os\n",
    "import glob\n",
    "import numpy as np\n",
    "import json\n",
    "import csv"
   ]
  },
  {
   "cell_type": "markdown",
   "metadata": {},
   "source": [
    "#### Creating list of filepaths to process original event csv data files"
   ]
  },
  {
   "cell_type": "markdown",
   "metadata": {},
   "source": [
    "#### Processing the files to create the data file csv that will be used for Apache Casssandra tables"
   ]
  },
  {
   "cell_type": "code",
   "execution_count": null,
   "metadata": {},
   "outputs": [],
   "source": []
  },
  {
   "cell_type": "code",
   "execution_count": 3,
   "metadata": {},
   "outputs": [
    {
     "name": "stdout",
     "output_type": "stream",
     "text": [
      "/mnt/c/Users/Huawei/Downloads/project-1b-project-template.ipynb\n"
     ]
    }
   ],
   "source": [
    "# checking your current working directory\n",
    "print(os.getcwd())"
   ]
  },
  {
   "cell_type": "code",
   "execution_count": 4,
   "metadata": {},
   "outputs": [
    {
     "name": "stdout",
     "output_type": "stream",
     "text": [
      "['/mnt/c/Users/Huawei/Downloads/project-1b-project-template.ipynb/event_data/2018-11-01-events.csv', '/mnt/c/Users/Huawei/Downloads/project-1b-project-template.ipynb/event_data/2018-11-02-events.csv', '/mnt/c/Users/Huawei/Downloads/project-1b-project-template.ipynb/event_data/2018-11-03-events.csv', '/mnt/c/Users/Huawei/Downloads/project-1b-project-template.ipynb/event_data/2018-11-04-events.csv', '/mnt/c/Users/Huawei/Downloads/project-1b-project-template.ipynb/event_data/2018-11-05-events.csv', '/mnt/c/Users/Huawei/Downloads/project-1b-project-template.ipynb/event_data/2018-11-06-events.csv', '/mnt/c/Users/Huawei/Downloads/project-1b-project-template.ipynb/event_data/2018-11-07-events.csv', '/mnt/c/Users/Huawei/Downloads/project-1b-project-template.ipynb/event_data/2018-11-08-events.csv', '/mnt/c/Users/Huawei/Downloads/project-1b-project-template.ipynb/event_data/2018-11-09-events.csv', '/mnt/c/Users/Huawei/Downloads/project-1b-project-template.ipynb/event_data/2018-11-10-events.csv', '/mnt/c/Users/Huawei/Downloads/project-1b-project-template.ipynb/event_data/2018-11-11-events.csv', '/mnt/c/Users/Huawei/Downloads/project-1b-project-template.ipynb/event_data/2018-11-12-events.csv', '/mnt/c/Users/Huawei/Downloads/project-1b-project-template.ipynb/event_data/2018-11-13-events.csv', '/mnt/c/Users/Huawei/Downloads/project-1b-project-template.ipynb/event_data/2018-11-14-events.csv', '/mnt/c/Users/Huawei/Downloads/project-1b-project-template.ipynb/event_data/2018-11-15-events.csv', '/mnt/c/Users/Huawei/Downloads/project-1b-project-template.ipynb/event_data/2018-11-16-events.csv', '/mnt/c/Users/Huawei/Downloads/project-1b-project-template.ipynb/event_data/2018-11-17-events.csv', '/mnt/c/Users/Huawei/Downloads/project-1b-project-template.ipynb/event_data/2018-11-18-events.csv', '/mnt/c/Users/Huawei/Downloads/project-1b-project-template.ipynb/event_data/2018-11-19-events.csv', '/mnt/c/Users/Huawei/Downloads/project-1b-project-template.ipynb/event_data/2018-11-20-events.csv', '/mnt/c/Users/Huawei/Downloads/project-1b-project-template.ipynb/event_data/2018-11-21-events.csv', '/mnt/c/Users/Huawei/Downloads/project-1b-project-template.ipynb/event_data/2018-11-22-events.csv', '/mnt/c/Users/Huawei/Downloads/project-1b-project-template.ipynb/event_data/2018-11-23-events.csv', '/mnt/c/Users/Huawei/Downloads/project-1b-project-template.ipynb/event_data/2018-11-24-events.csv', '/mnt/c/Users/Huawei/Downloads/project-1b-project-template.ipynb/event_data/2018-11-25-events.csv', '/mnt/c/Users/Huawei/Downloads/project-1b-project-template.ipynb/event_data/2018-11-26-events.csv', '/mnt/c/Users/Huawei/Downloads/project-1b-project-template.ipynb/event_data/2018-11-27-events.csv', '/mnt/c/Users/Huawei/Downloads/project-1b-project-template.ipynb/event_data/2018-11-28-events.csv', '/mnt/c/Users/Huawei/Downloads/project-1b-project-template.ipynb/event_data/2018-11-29-events.csv', '/mnt/c/Users/Huawei/Downloads/project-1b-project-template.ipynb/event_data/2018-11-30-events.csv', '/mnt/c/Users/Huawei/Downloads/project-1b-project-template.ipynb/event_data/2018-11-01-events.csv', '/mnt/c/Users/Huawei/Downloads/project-1b-project-template.ipynb/event_data/2018-11-02-events.csv', '/mnt/c/Users/Huawei/Downloads/project-1b-project-template.ipynb/event_data/2018-11-03-events.csv', '/mnt/c/Users/Huawei/Downloads/project-1b-project-template.ipynb/event_data/2018-11-04-events.csv', '/mnt/c/Users/Huawei/Downloads/project-1b-project-template.ipynb/event_data/2018-11-05-events.csv', '/mnt/c/Users/Huawei/Downloads/project-1b-project-template.ipynb/event_data/2018-11-06-events.csv', '/mnt/c/Users/Huawei/Downloads/project-1b-project-template.ipynb/event_data/2018-11-07-events.csv', '/mnt/c/Users/Huawei/Downloads/project-1b-project-template.ipynb/event_data/2018-11-08-events.csv', '/mnt/c/Users/Huawei/Downloads/project-1b-project-template.ipynb/event_data/2018-11-09-events.csv', '/mnt/c/Users/Huawei/Downloads/project-1b-project-template.ipynb/event_data/2018-11-10-events.csv', '/mnt/c/Users/Huawei/Downloads/project-1b-project-template.ipynb/event_data/2018-11-11-events.csv', '/mnt/c/Users/Huawei/Downloads/project-1b-project-template.ipynb/event_data/2018-11-12-events.csv', '/mnt/c/Users/Huawei/Downloads/project-1b-project-template.ipynb/event_data/2018-11-13-events.csv', '/mnt/c/Users/Huawei/Downloads/project-1b-project-template.ipynb/event_data/2018-11-14-events.csv', '/mnt/c/Users/Huawei/Downloads/project-1b-project-template.ipynb/event_data/2018-11-15-events.csv', '/mnt/c/Users/Huawei/Downloads/project-1b-project-template.ipynb/event_data/2018-11-16-events.csv', '/mnt/c/Users/Huawei/Downloads/project-1b-project-template.ipynb/event_data/2018-11-17-events.csv', '/mnt/c/Users/Huawei/Downloads/project-1b-project-template.ipynb/event_data/2018-11-18-events.csv', '/mnt/c/Users/Huawei/Downloads/project-1b-project-template.ipynb/event_data/2018-11-19-events.csv', '/mnt/c/Users/Huawei/Downloads/project-1b-project-template.ipynb/event_data/2018-11-20-events.csv', '/mnt/c/Users/Huawei/Downloads/project-1b-project-template.ipynb/event_data/2018-11-21-events.csv', '/mnt/c/Users/Huawei/Downloads/project-1b-project-template.ipynb/event_data/2018-11-22-events.csv', '/mnt/c/Users/Huawei/Downloads/project-1b-project-template.ipynb/event_data/2018-11-23-events.csv', '/mnt/c/Users/Huawei/Downloads/project-1b-project-template.ipynb/event_data/2018-11-24-events.csv', '/mnt/c/Users/Huawei/Downloads/project-1b-project-template.ipynb/event_data/2018-11-25-events.csv', '/mnt/c/Users/Huawei/Downloads/project-1b-project-template.ipynb/event_data/2018-11-26-events.csv', '/mnt/c/Users/Huawei/Downloads/project-1b-project-template.ipynb/event_data/2018-11-27-events.csv', '/mnt/c/Users/Huawei/Downloads/project-1b-project-template.ipynb/event_data/2018-11-28-events.csv', '/mnt/c/Users/Huawei/Downloads/project-1b-project-template.ipynb/event_data/2018-11-29-events.csv', '/mnt/c/Users/Huawei/Downloads/project-1b-project-template.ipynb/event_data/2018-11-30-events.csv']\n",
      "['/mnt/c/Users/Huawei/Downloads/project-1b-project-template.ipynb/event_data/2018-11-01-events.csv', '/mnt/c/Users/Huawei/Downloads/project-1b-project-template.ipynb/event_data/2018-11-02-events.csv', '/mnt/c/Users/Huawei/Downloads/project-1b-project-template.ipynb/event_data/2018-11-03-events.csv', '/mnt/c/Users/Huawei/Downloads/project-1b-project-template.ipynb/event_data/2018-11-04-events.csv', '/mnt/c/Users/Huawei/Downloads/project-1b-project-template.ipynb/event_data/2018-11-05-events.csv', '/mnt/c/Users/Huawei/Downloads/project-1b-project-template.ipynb/event_data/2018-11-06-events.csv', '/mnt/c/Users/Huawei/Downloads/project-1b-project-template.ipynb/event_data/2018-11-07-events.csv', '/mnt/c/Users/Huawei/Downloads/project-1b-project-template.ipynb/event_data/2018-11-08-events.csv', '/mnt/c/Users/Huawei/Downloads/project-1b-project-template.ipynb/event_data/2018-11-09-events.csv', '/mnt/c/Users/Huawei/Downloads/project-1b-project-template.ipynb/event_data/2018-11-10-events.csv', '/mnt/c/Users/Huawei/Downloads/project-1b-project-template.ipynb/event_data/2018-11-11-events.csv', '/mnt/c/Users/Huawei/Downloads/project-1b-project-template.ipynb/event_data/2018-11-12-events.csv', '/mnt/c/Users/Huawei/Downloads/project-1b-project-template.ipynb/event_data/2018-11-13-events.csv', '/mnt/c/Users/Huawei/Downloads/project-1b-project-template.ipynb/event_data/2018-11-14-events.csv', '/mnt/c/Users/Huawei/Downloads/project-1b-project-template.ipynb/event_data/2018-11-15-events.csv', '/mnt/c/Users/Huawei/Downloads/project-1b-project-template.ipynb/event_data/2018-11-16-events.csv', '/mnt/c/Users/Huawei/Downloads/project-1b-project-template.ipynb/event_data/2018-11-17-events.csv', '/mnt/c/Users/Huawei/Downloads/project-1b-project-template.ipynb/event_data/2018-11-18-events.csv', '/mnt/c/Users/Huawei/Downloads/project-1b-project-template.ipynb/event_data/2018-11-19-events.csv', '/mnt/c/Users/Huawei/Downloads/project-1b-project-template.ipynb/event_data/2018-11-20-events.csv', '/mnt/c/Users/Huawei/Downloads/project-1b-project-template.ipynb/event_data/2018-11-21-events.csv', '/mnt/c/Users/Huawei/Downloads/project-1b-project-template.ipynb/event_data/2018-11-22-events.csv', '/mnt/c/Users/Huawei/Downloads/project-1b-project-template.ipynb/event_data/2018-11-23-events.csv', '/mnt/c/Users/Huawei/Downloads/project-1b-project-template.ipynb/event_data/2018-11-24-events.csv', '/mnt/c/Users/Huawei/Downloads/project-1b-project-template.ipynb/event_data/2018-11-25-events.csv', '/mnt/c/Users/Huawei/Downloads/project-1b-project-template.ipynb/event_data/2018-11-26-events.csv', '/mnt/c/Users/Huawei/Downloads/project-1b-project-template.ipynb/event_data/2018-11-27-events.csv', '/mnt/c/Users/Huawei/Downloads/project-1b-project-template.ipynb/event_data/2018-11-28-events.csv', '/mnt/c/Users/Huawei/Downloads/project-1b-project-template.ipynb/event_data/2018-11-29-events.csv', '/mnt/c/Users/Huawei/Downloads/project-1b-project-template.ipynb/event_data/2018-11-30-events.csv', '/mnt/c/Users/Huawei/Downloads/project-1b-project-template.ipynb/event_data/2018-11-01-events.csv', '/mnt/c/Users/Huawei/Downloads/project-1b-project-template.ipynb/event_data/2018-11-02-events.csv', '/mnt/c/Users/Huawei/Downloads/project-1b-project-template.ipynb/event_data/2018-11-03-events.csv', '/mnt/c/Users/Huawei/Downloads/project-1b-project-template.ipynb/event_data/2018-11-04-events.csv', '/mnt/c/Users/Huawei/Downloads/project-1b-project-template.ipynb/event_data/2018-11-05-events.csv', '/mnt/c/Users/Huawei/Downloads/project-1b-project-template.ipynb/event_data/2018-11-06-events.csv', '/mnt/c/Users/Huawei/Downloads/project-1b-project-template.ipynb/event_data/2018-11-07-events.csv', '/mnt/c/Users/Huawei/Downloads/project-1b-project-template.ipynb/event_data/2018-11-08-events.csv', '/mnt/c/Users/Huawei/Downloads/project-1b-project-template.ipynb/event_data/2018-11-09-events.csv', '/mnt/c/Users/Huawei/Downloads/project-1b-project-template.ipynb/event_data/2018-11-10-events.csv', '/mnt/c/Users/Huawei/Downloads/project-1b-project-template.ipynb/event_data/2018-11-11-events.csv', '/mnt/c/Users/Huawei/Downloads/project-1b-project-template.ipynb/event_data/2018-11-12-events.csv', '/mnt/c/Users/Huawei/Downloads/project-1b-project-template.ipynb/event_data/2018-11-13-events.csv', '/mnt/c/Users/Huawei/Downloads/project-1b-project-template.ipynb/event_data/2018-11-14-events.csv', '/mnt/c/Users/Huawei/Downloads/project-1b-project-template.ipynb/event_data/2018-11-15-events.csv', '/mnt/c/Users/Huawei/Downloads/project-1b-project-template.ipynb/event_data/2018-11-16-events.csv', '/mnt/c/Users/Huawei/Downloads/project-1b-project-template.ipynb/event_data/2018-11-17-events.csv', '/mnt/c/Users/Huawei/Downloads/project-1b-project-template.ipynb/event_data/2018-11-18-events.csv', '/mnt/c/Users/Huawei/Downloads/project-1b-project-template.ipynb/event_data/2018-11-19-events.csv', '/mnt/c/Users/Huawei/Downloads/project-1b-project-template.ipynb/event_data/2018-11-20-events.csv', '/mnt/c/Users/Huawei/Downloads/project-1b-project-template.ipynb/event_data/2018-11-21-events.csv', '/mnt/c/Users/Huawei/Downloads/project-1b-project-template.ipynb/event_data/2018-11-22-events.csv', '/mnt/c/Users/Huawei/Downloads/project-1b-project-template.ipynb/event_data/2018-11-23-events.csv', '/mnt/c/Users/Huawei/Downloads/project-1b-project-template.ipynb/event_data/2018-11-24-events.csv', '/mnt/c/Users/Huawei/Downloads/project-1b-project-template.ipynb/event_data/2018-11-25-events.csv', '/mnt/c/Users/Huawei/Downloads/project-1b-project-template.ipynb/event_data/2018-11-26-events.csv', '/mnt/c/Users/Huawei/Downloads/project-1b-project-template.ipynb/event_data/2018-11-27-events.csv', '/mnt/c/Users/Huawei/Downloads/project-1b-project-template.ipynb/event_data/2018-11-28-events.csv', '/mnt/c/Users/Huawei/Downloads/project-1b-project-template.ipynb/event_data/2018-11-29-events.csv', '/mnt/c/Users/Huawei/Downloads/project-1b-project-template.ipynb/event_data/2018-11-30-events.csv']\n"
     ]
    }
   ],
   "source": [
    "# Get your current folder and subfolder event data\n",
    "filepath = os.getcwd() + '/event_data'\n",
    "file_path_list = glob.glob(os.path.join(os.getcwd(), 'event_data', '*.csv'))\n",
    "\n",
    "# Create a for loop to create a list of files and collect each filepath\n",
    "for root, dirs, files in os.walk(filepath):\n",
    "    \n",
    "# join the file path and roots with the subdirectories using glob\n",
    "    file_path_list.extend(glob.glob(os.path.join(root, '*.csv')))\n",
    "    print(file_path_list)"
   ]
  },
  {
   "cell_type": "code",
   "execution_count": 5,
   "metadata": {},
   "outputs": [
    {
     "name": "stdout",
     "output_type": "stream",
     "text": [
      "[['', 'Logged In', 'Walter', 'M', '0', 'Frye', '', 'free', 'San Francisco-Oakland-Hayward, CA', 'GET', 'Home', '1.54092E+12', '38', '', '200', '1.54111E+12', '39'], ['', 'Logged In', 'Kaylee', 'F', '0', 'Summers', '', 'free', 'Phoenix-Mesa-Scottsdale, AZ', 'GET', 'Home', '1.54034E+12', '139', '', '200', '1.54111E+12', '8'], [\"Des'ree\", 'Logged In', 'Kaylee', 'F', '1', 'Summers', '246.30812', 'free', 'Phoenix-Mesa-Scottsdale, AZ', 'PUT', 'NextSong', '1.54034E+12', '139', 'You Gotta Be', '200', '1.54111E+12', '8'], ['', 'Logged In', 'Kaylee', 'F', '2', 'Summers', '', 'free', 'Phoenix-Mesa-Scottsdale, AZ', 'GET', 'Upgrade', '1.54034E+12', '139', '', '200', '1.54111E+12', '8'], ['Mr Oizo', 'Logged In', 'Kaylee', 'F', '3', 'Summers', '144.03873', 'free', 'Phoenix-Mesa-Scottsdale, AZ', 'PUT', 'NextSong', '1.54034E+12', '139', 'Flat 55', '200', '1.54111E+12', '8']]\n"
     ]
    }
   ],
   "source": [
    " #initiating an empty list of rows that will be generated from each file\n",
    "full_data_rows_list = [] \n",
    "    \n",
    "# for every filepath in the file path list \n",
    "for f in file_path_list:\n",
    "\n",
    "# reading csv file \n",
    "    with open(f, 'r', encoding = 'utf8', newline='') as csvfile: \n",
    "        # creating a csv reader object \n",
    "        csvreader = csv.reader(csvfile) \n",
    "        next(csvreader)\n",
    "        \n",
    " # extracting each data row one by one and append it        \n",
    "        for line in csvreader:\n",
    "            #print(line)\n",
    "            full_data_rows_list.append(line) \n",
    "            \n",
    "# uncomment the code below if you would like to get total number of rows \n",
    "# uncomment the code below if you would like to check to see what the list of event data rows will look like\n",
    "print(full_data_rows_list[:5])  # يعرض أول 5 صفوف فقط\n",
    "\n",
    "# creating a smaller event data csv file called event_datafile_full csv that will be used to insert data into the \\\n",
    "# Apache Cassandra tables\n",
    "csv.register_dialect('myDialect', quoting=csv.QUOTE_ALL, skipinitialspace=True)\n",
    "\n",
    "with open('event_datafile_new.csv', 'w', encoding = 'utf8', newline='') as f:\n",
    "    writer = csv.writer(f, dialect='myDialect')\n",
    "    writer.writerow(['artist','firstName','gender','itemInSession','lastName','length',\\\n",
    "                'level','location','sessionId','song','userId'])\n",
    "    for row in full_data_rows_list:\n",
    "        if (row[0] == ''):\n",
    "            continue\n",
    "        writer.writerow((row[0], row[2], row[3], row[4], row[5], row[6], row[7], row[8], row[12], row[13], row[16]))\n"
   ]
  },
  {
   "cell_type": "code",
   "execution_count": 6,
   "metadata": {},
   "outputs": [
    {
     "name": "stdout",
     "output_type": "stream",
     "text": [
      "6821\n"
     ]
    }
   ],
   "source": [
    "# check the number of rows in your csv file\n",
    "with open('event_datafile_clean.csv', 'r', encoding = 'utf8') as f:\n",
    "    print(sum(1 for line in f))"
   ]
  },
  {
   "cell_type": "code",
   "execution_count": 7,
   "metadata": {},
   "outputs": [
    {
     "name": "stdout",
     "output_type": "stream",
     "text": [
      "/mnt/c/Users/Huawei/Downloads/project-1b-project-template.ipynb\n"
     ]
    }
   ],
   "source": [
    "import os\n",
    "print(os.getcwd())\n"
   ]
  },
  {
   "cell_type": "markdown",
   "metadata": {},
   "source": [
    "# Part II. Complete the Apache Cassandra coding portion of your project. \n",
    "\n",
    "## Now you are ready to work with the CSV file titled <font color=red>event_datafile_new.csv</font>, located within the Workspace directory.  The event_datafile_new.csv contains the following columns: \n",
    "- artist \n",
    "- firstName of user\n",
    "- gender of user\n",
    "- item number in session\n",
    "- last name of user\n",
    "- length of the song\n",
    "- level (paid or free song)\n",
    "- location of the user\n",
    "- sessionId\n",
    "- song title\n",
    "- userId\n",
    "\n",
    "The image below is a screenshot of what the denormalized data should appear like in the <font color=red>**event_datafile_new.csv**</font> after the code above is run:<br>\n",
    "\n",
    "<img src=\"images/image_event_datafile_new.jpg\">"
   ]
  },
  {
   "cell_type": "markdown",
   "metadata": {},
   "source": [
    "# Checking the connection to Docker\n",
    "# This should make a connection to a Cassandra instance your local machine \n",
    "# (127.0.0.1)"
   ]
  },
  {
   "cell_type": "code",
   "execution_count": 8,
   "metadata": {},
   "outputs": [
    {
     "name": "stdout",
     "output_type": "stream",
     "text": [
      "✅ Connected to Cassandra successfully!\n"
     ]
    }
   ],
   "source": [
    "from cassandra.cluster import Cluster\n",
    "\n",
    "try:\n",
    "    cluster = Cluster(['127.0.0.1'])\n",
    "    session = cluster.connect()\n",
    "    print(\"✅ Connected to Cassandra successfully!\")\n",
    "except Exception as e:\n",
    "    print(\"❌ Connection failed:\")\n",
    "    print(e)\n"
   ]
  },
  {
   "cell_type": "markdown",
   "metadata": {},
   "source": [
    "## Begin writing  Apache Cassandra code in the cells below"
   ]
  },
  {
   "cell_type": "markdown",
   "metadata": {},
   "source": [
    "#### Creating a Cluster"
   ]
  },
  {
   "cell_type": "code",
   "execution_count": 9,
   "metadata": {},
   "outputs": [],
   "source": [
    "from cassandra.cluster import Cluster\n",
    "cluster = Cluster()\n",
    "\n",
    "# To establish connection and begin executing queries, need a session\n",
    "session = cluster.connect()"
   ]
  },
  {
   "cell_type": "markdown",
   "metadata": {},
   "source": [
    "#### Create Keyspace"
   ]
  },
  {
   "cell_type": "code",
   "execution_count": 10,
   "metadata": {},
   "outputs": [
    {
     "data": {
      "text/plain": [
       "<cassandra.cluster.ResultSet at 0x7f3fd0c43dc0>"
      ]
     },
     "execution_count": 10,
     "metadata": {},
     "output_type": "execute_result"
    }
   ],
   "source": [
    "# TO-DO: Create a Keyspace \n",
    "session.execute(\"\"\"\n",
    "CREATE KEYSPACE IF NOT EXISTS SPARKIFY\n",
    "    WITH REPLICATION = { 'class' : 'SimpleStrategy', 'replication_factor' : 1 }\n",
    "\"\"\")"
   ]
  },
  {
   "cell_type": "markdown",
   "metadata": {},
   "source": [
    "#### Set Keyspace"
   ]
  },
  {
   "cell_type": "code",
   "execution_count": 11,
   "metadata": {},
   "outputs": [],
   "source": [
    "# TO-DO: Set KEYSPACE to the keyspace specified above\n",
    "session.set_keyspace('sparkify')\n"
   ]
  },
  {
   "cell_type": "markdown",
   "metadata": {},
   "source": [
    "#### Create queries to ask the following three questions of the data\n",
    "1. Give me the artist, song title and song's length in the music app history that was heard during sessionId = 338, and itemInSession = 4\n",
    "\n",
    "\n",
    "1.1 - Create songs table"
   ]
  },
  {
   "cell_type": "code",
   "execution_count": 12,
   "metadata": {},
   "outputs": [
    {
     "data": {
      "text/plain": [
       "<cassandra.cluster.ResultSet at 0x7f4010183670>"
      ]
     },
     "execution_count": 12,
     "metadata": {},
     "output_type": "execute_result"
    }
   ],
   "source": [
    "session.execute(\"\"\"\n",
    "    CREATE TABLE IF NOT EXISTS song_info_by_session (\n",
    "        sessionId int,\n",
    "        itemInSession int,\n",
    "        artist text,\n",
    "        song text,\n",
    "        length float,\n",
    "        PRIMARY KEY (sessionId, itemInSession)\n",
    "    )\n",
    "\"\"\")\n"
   ]
  },
  {
   "cell_type": "markdown",
   "metadata": {},
   "source": [
    "#### 1.2 - Insert records into `song_info_by_session` table"
   ]
  },
  {
   "cell_type": "code",
   "execution_count": 13,
   "metadata": {},
   "outputs": [],
   "source": [
    "file = 'event_datafile_clean.csv'\n",
    "\n",
    "with open(file, encoding = 'utf8') as f:\n",
    "    csvreader = csv.reader(f)\n",
    "    next(csvreader) # skip header\n",
    "    for line in csvreader:\n",
    "        query = \"INSERT INTO song_info_by_session (sessionId, itemInSession, artist, song, length)\"\n",
    "        query = query + \"VALUES (%s, %s, %s, %s, %s)\"\n",
    "        session.execute(query, (int(line[8]), int(line[3]), line[0], line[9], float(line[5])))"
   ]
  },
  {
   "cell_type": "markdown",
   "metadata": {},
   "source": [
    "#### 1.3 - Do a SELECT to verify that the data have been inserted the table"
   ]
  },
  {
   "cell_type": "code",
   "execution_count": 14,
   "metadata": {},
   "outputs": [
    {
     "name": "stdout",
     "output_type": "stream",
     "text": [
      "Faithless Music Matters (Mark Knight Dub) 495.30731201171875\n"
     ]
    }
   ],
   "source": [
    "query = \"SELECT artist, song, length FROM song_info_by_session WHERE sessionId=338 AND itemInSession=4\"\n",
    "try:\n",
    "    rows = session.execute(query)\n",
    "except Exception as e:\n",
    "    print(e)\n",
    "    \n",
    "for row in rows:\n",
    "    print(row.artist, row.song, row.length)"
   ]
  },
  {
   "cell_type": "code",
   "execution_count": 53,
   "metadata": {},
   "outputs": [
    {
     "name": "stdout",
     "output_type": "stream",
     "text": [
      "song_info_by_session\n"
     ]
    }
   ],
   "source": []
  },
  {
   "cell_type": "markdown",
   "metadata": {},
   "source": [
    "### 2. Give me only the following: name of artist, song (sorted by itemInSession) and user (first and last name) for userid = 10, sessionid = 182"
   ]
  },
  {
   "cell_type": "markdown",
   "metadata": {},
   "source": [
    "#### 2.1 - Create `users` table"
   ]
  },
  {
   "cell_type": "code",
   "execution_count": 71,
   "metadata": {},
   "outputs": [],
   "source": [
    "#will use composite (user_id ,sessionId) as unique primary key\n",
    "#add itemInSession as a clustering column to sort the data\n",
    "\n",
    "query = \"CREATE TABLE IF NOT EXISTS users\"\n",
    "query = query +\"(user_id INT, \\\n",
    "                  sessionId INT, \\\n",
    "                  itemInSession INT, \\\n",
    "                  artist TEXT, \\\n",
    "                  song TEXT, \\\n",
    "                  first_name TEXT, \\\n",
    "                  last_name TEXT, \\\n",
    "                  PRIMARY KEY ((user_id, sessionId), itemInSession))\"\n",
    "try:\n",
    "    session.execute(query)\n",
    "except Exception as e:\n",
    "    print(e)\n"
   ]
  },
  {
   "cell_type": "code",
   "execution_count": 69,
   "metadata": {},
   "outputs": [
    {
     "data": {
      "text/plain": [
       "<cassandra.cluster.ResultSet at 0x7f3b1fa57e50>"
      ]
     },
     "execution_count": 69,
     "metadata": {},
     "output_type": "execute_result"
    }
   ],
   "source": [
    "#session.execute(\"DROP TABLE IF EXISTS users\")"
   ]
  },
  {
   "cell_type": "markdown",
   "metadata": {},
   "source": [
    "#### checking the tables"
   ]
  },
  {
   "cell_type": "code",
   "execution_count": 15,
   "metadata": {},
   "outputs": [
    {
     "name": "stdout",
     "output_type": "stream",
     "text": [
      "song_info_by_session\n",
      "users\n"
     ]
    }
   ],
   "source": [
    "rows = session.execute(\"SELECT * FROM system_schema.tables WHERE keyspace_name = 'sparkify'\")\n",
    "for row in rows:\n",
    "    print(row.table_name)\n"
   ]
  },
  {
   "cell_type": "markdown",
   "metadata": {},
   "source": [
    "#### 2.2 - Insert records into `users` table"
   ]
  },
  {
   "cell_type": "code",
   "execution_count": 73,
   "metadata": {},
   "outputs": [],
   "source": [
    "file = 'event_datafile_clean.csv'\n",
    "with open(file, encoding='utf8') as f:\n",
    "    csvreader = csv.reader(f)\n",
    "    next(csvreader) # skip header\n",
    "    for line in csvreader:\n",
    "        query = \" INSERT INTO users (user_id, sessionId, itemInSession, artist, song, first_name, last_name)\"\n",
    "        query = query + \"VALUES (%s, %s, %s, %s, %s, %s, %s)\"\n",
    "        session.execute(query, (int(line[10]), int(line[8]), int(line[3]), line[0], line[9],line[1], line[4]))\n",
    "    "
   ]
  },
  {
   "cell_type": "markdown",
   "metadata": {},
   "source": [
    "#### 2.3 - Do a SELECT to verify that the data have been inserted into the table"
   ]
  },
  {
   "cell_type": "code",
   "execution_count": 16,
   "metadata": {},
   "outputs": [
    {
     "name": "stdout",
     "output_type": "stream",
     "text": [
      "Down To The Bone Keep On Keepin' On Sylvie Cruz\n",
      "Three Drives Greece 2000 Sylvie Cruz\n",
      "Sebastien Tellier Kilometer Sylvie Cruz\n",
      "Lonnie Gordon Catch You Baby (Steve Pitron & Max Sanna Radio Edit) Sylvie Cruz\n"
     ]
    }
   ],
   "source": [
    "query = \"SELECT artist ,song , first_name , last_name FROM users WHERE user_id =10 AND sessionID =182\"   \n",
    "try:\n",
    "    rows = session.execute(query)\n",
    "except Exception as e:\n",
    "    print(e)\n",
    "    \n",
    "for row in rows:\n",
    "    print(row.artist, row.song, row.first_name, row.last_name)"
   ]
  },
  {
   "cell_type": "markdown",
   "metadata": {},
   "source": [
    "### Now we need to create tables to run the following queries. Remember, with Apache Cassandra you model the database tables on the queries you want to run."
   ]
  },
  {
   "cell_type": "markdown",
   "metadata": {},
   "source": [
    "### Now we need to create tables to run the following queries. Remember, with Apache Cassandra you model the database tables on the queries you want to run."
   ]
  },
  {
   "cell_type": "markdown",
   "metadata": {},
   "source": [
    "## Create queries to ask the following three questions of the data\n",
    "\n",
    "### 1. Give me the artist, song title and song's length in the music app history that was heard during  sessionId = 338, and itemInSession  = 4\n",
    "\n",
    "\n",
    "### 2. Give me only the following: name of artist, song (sorted by itemInSession) and user (first and last name) for userid = 10, sessionid = 182\n",
    "    \n",
    "\n",
    "### 3. Give me every user name (first and last) in my music app history who listened to the song 'All Hands Against His Own'\n",
    "\n",
    "\n"
   ]
  },
  {
   "cell_type": "code",
   "execution_count": 17,
   "metadata": {},
   "outputs": [
    {
     "name": "stdout",
     "output_type": "stream",
     "text": [
      "- Row(sessionid=23, iteminsession=0, artist='Regina Spektor', length=191.08526611328125, song='The Calculation (Album Version)')\n",
      "- Row(sessionid=23, iteminsession=1, artist='Octopus Project', length=250.95791625976562, song='All Of The Champs That Ever Lived')\n",
      "- Row(sessionid=23, iteminsession=2, artist='Tegan And Sara', length=180.06158447265625, song='So Jealous')\n",
      "- Row(sessionid=23, iteminsession=3, artist='Dragonette', length=153.39056396484375, song='Okay Dolores')\n",
      "- Row(sessionid=23, iteminsession=4, artist='Lil Wayne / Eminem', length=229.58975219726562, song='Drop The World')\n"
     ]
    }
   ],
   "source": [
    "rr = session.execute(\"\"\"SELECT * FROM song_info_by_session LIMIT 5\"\"\")\n",
    "for r in rr :\n",
    "    print(\"-\",r)"
   ]
  },
  {
   "cell_type": "code",
   "execution_count": 18,
   "metadata": {},
   "outputs": [
    {
     "name": "stdout",
     "output_type": "stream",
     "text": [
      "Row(artist='Faithless', song='Music Matters (Mark Knight Dub)', length=495.30731201171875)\n"
     ]
    }
   ],
   "source": [
    "## TO-DO: Query 1:  Give me the artist, song title and song's length in the music app history that was heard during \\\n",
    "## sessionId = 338, and itemInSession = 4\n",
    "rows = session.execute(\"\"\"\n",
    "    SELECT artist, song, length \n",
    "    FROM song_info_by_session\n",
    "    WHERE sessionId = 338 AND itemInSession = 4 \"\"\")\n",
    "\n",
    "for row in rows:\n",
    "    print(row)\n",
    "\n",
    "\n",
    "                    "
   ]
  },
  {
   "cell_type": "code",
   "execution_count": 20,
   "metadata": {},
   "outputs": [
    {
     "data": {
      "text/plain": [
       "<cassandra.cluster.ResultSet at 0x7f3fcb89c460>"
      ]
     },
     "execution_count": 20,
     "metadata": {},
     "output_type": "execute_result"
    }
   ],
   "source": [
    "session.execute(\"\"\"\n",
    "    CREATE TABLE IF NOT EXISTS user_session_info (\n",
    "        userId int,\n",
    "        sessionId int,\n",
    "        itemInSession int,\n",
    "        artist text,\n",
    "        song text,\n",
    "        first_name text,\n",
    "        last_name text,\n",
    "        PRIMARY KEY ((userId, sessionId), itemInSession)\n",
    "    )\n",
    "\"\"\")\n"
   ]
  },
  {
   "cell_type": "code",
   "execution_count": 25,
   "metadata": {},
   "outputs": [],
   "source": [
    "rows = session.execute(\"\"\"\n",
    "    SELECT artist, song, first_name, last_name \n",
    "    FROM user_session_info \n",
    "    WHERE userId = 10 AND sessionId = 182\n",
    "\"\"\")\n",
    "for row in rows:\n",
    "    print(row)\n"
   ]
  },
  {
   "cell_type": "code",
   "execution_count": 28,
   "metadata": {},
   "outputs": [],
   "source": [
    "file = 'event_datafile_clean.csv'\n",
    "\n",
    "with open(file, encoding='utf8') as f:\n",
    "    csvreader = csv.reader(f)\n",
    "    next(csvreader)  \n",
    "    \n",
    "    for line in csvreader:\n",
    "        query = \"INSERT INTO user_session_info (userId, sessionId, itemInSession, artist, song, first_name, last_name)\"\n",
    "        query += \" VALUES (%s, %s, %s, %s, %s, %s, %s)\"\n",
    "        session.execute(query, (int(line[10]), int(line[8]), int(line[3]), line[0], line[9], line[1], line[4]))\n"
   ]
  },
  {
   "cell_type": "code",
   "execution_count": null,
   "metadata": {
    "scrolled": true
   },
   "outputs": [],
   "source": [
    "## TO-DO: Add in the SELECT statement to verify the data was entered into the table"
   ]
  },
  {
   "cell_type": "code",
   "execution_count": 29,
   "metadata": {},
   "outputs": [
    {
     "name": "stdout",
     "output_type": "stream",
     "text": [
      "Row(count=6820)\n"
     ]
    }
   ],
   "source": [
    "rows = session.execute(\"SELECT COUNT(*) FROM user_session_info\")\n",
    "for row in rows:\n",
    "    print(row)\n"
   ]
  },
  {
   "cell_type": "markdown",
   "metadata": {},
   "source": [
    "### COPY AND REPEAT THE ABOVE THREE CELLS FOR EACH OF THE THREE QUESTIONS"
   ]
  },
  {
   "cell_type": "code",
   "execution_count": 31,
   "metadata": {},
   "outputs": [
    {
     "name": "stdout",
     "output_type": "stream",
     "text": [
      "Row(artist='Down To The Bone', song=\"Keep On Keepin' On\", first_name='Sylvie', last_name='Cruz')\n",
      "Row(artist='Three Drives', song='Greece 2000', first_name='Sylvie', last_name='Cruz')\n",
      "Row(artist='Sebastien Tellier', song='Kilometer', first_name='Sylvie', last_name='Cruz')\n",
      "Row(artist='Lonnie Gordon', song='Catch You Baby (Steve Pitron & Max Sanna Radio Edit)', first_name='Sylvie', last_name='Cruz')\n"
     ]
    }
   ],
   "source": [
    "## TO-DO: Query 2: Give me only the following: name of artist, song (sorted by itemInSession) and user (first and last name)\\\n",
    "## for userid = 10, sessionid = 182\n",
    "\n",
    "query = \"\"\"SELECT artist, song, first_name, last_name \n",
    "           FROM user_session_info \n",
    "           WHERE userId = 10 AND sessionId = 182 \n",
    "           ORDER BY itemInSession\"\"\"\n",
    "\n",
    "rows = session.execute(query)\n",
    "for row in rows:\n",
    "    print(row)\n",
    "\n",
    "                    "
   ]
  },
  {
   "cell_type": "code",
   "execution_count": 32,
   "metadata": {},
   "outputs": [
    {
     "data": {
      "text/plain": [
       "<cassandra.cluster.ResultSet at 0x7f3fc8c524d0>"
      ]
     },
     "execution_count": 32,
     "metadata": {},
     "output_type": "execute_result"
    }
   ],
   "source": [
    "## TO-DO: Query 3: Give me every user name (first and last) in my music app history who listened to the song 'All Hands Against His Own'\n",
    "session.execute(\"\"\"\n",
    "    CREATE TABLE IF NOT EXISTS song_listeners_info (\n",
    "        song text,\n",
    "        userId int,\n",
    "        first_name text,\n",
    "        last_name text,\n",
    "        PRIMARY KEY (song, userId)\n",
    "    )\n",
    "\"\"\")\n",
    "\n",
    "\n",
    "                    "
   ]
  },
  {
   "cell_type": "code",
   "execution_count": 34,
   "metadata": {},
   "outputs": [],
   "source": [
    "query = \"\"\"SELECT first_name, last_name \n",
    "           FROM song_listeners_info \n",
    "           WHERE song = 'All Hands Against His Own'\"\"\"\n",
    "\n",
    "rows = session.execute(query)\n",
    "for row in rows:\n",
    "    print(row)\n"
   ]
  },
  {
   "cell_type": "code",
   "execution_count": null,
   "metadata": {},
   "outputs": [],
   "source": []
  },
  {
   "cell_type": "markdown",
   "metadata": {},
   "source": [
    "### Drop the tables before closing out the sessions"
   ]
  },
  {
   "cell_type": "code",
   "execution_count": null,
   "metadata": {},
   "outputs": [],
   "source": [
    "## TO-DO: Drop the table before closing out the sessions"
   ]
  },
  {
   "cell_type": "code",
   "execution_count": null,
   "metadata": {},
   "outputs": [],
   "source": [
    "session.execute(\"DROP TABLE IF EXISTS user_session_info\")\n",
    "session.execute(\"DROP TABLE IF EXISTS song_listeners_info\")\n"
   ]
  },
  {
   "cell_type": "markdown",
   "metadata": {},
   "source": [
    "### Close the session and cluster connection¶"
   ]
  },
  {
   "cell_type": "code",
   "execution_count": null,
   "metadata": {},
   "outputs": [],
   "source": [
    "session.shutdown()\n",
    "cluster.shutdown()"
   ]
  },
  {
   "cell_type": "code",
   "execution_count": null,
   "metadata": {},
   "outputs": [],
   "source": []
  },
  {
   "cell_type": "code",
   "execution_count": null,
   "metadata": {},
   "outputs": [],
   "source": []
  }
 ],
 "metadata": {
  "kernelspec": {
   "display_name": "Python 3 (ipykernel)",
   "language": "python",
   "name": "python3"
  },
  "language_info": {
   "codemirror_mode": {
    "name": "ipython",
    "version": 3
   },
   "file_extension": ".py",
   "mimetype": "text/x-python",
   "name": "python",
   "nbconvert_exporter": "python",
   "pygments_lexer": "ipython3",
   "version": "3.10.12"
  }
 },
 "nbformat": 4,
 "nbformat_minor": 4
}
